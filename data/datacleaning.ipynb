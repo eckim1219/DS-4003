{
 "cells": [
  {
   "cell_type": "markdown",
   "metadata": {},
   "source": [
    "# Final Project \n",
    "#### Eunice Kim\n",
    "#### DS 4003"
   ]
  },
  {
   "cell_type": "markdown",
   "metadata": {},
   "source": [
    "## Data Introduction \n",
    "\n",
    "https://www.kaggle.com/datasets/leonardopena/top-spotify-songs-from-20102019-by-year/data\n",
    "\n",
    "This dataset shows a comprehensive summary of the music industry, presenting the top 10 songs from 2010 to 2019 globally. Collected from Spotify and Billboard, it shows current music trends in various areas and among various groups of people. Spotify is one of the biggest and popular applications people use for music streaming. Both artists and producers release their singles, albums, and exclusive content through this platform. With a wide collection of data encompassing consumer preferences and listening habits, Spotify gives a valuable resource for understanding what drives viral hits in the music industry. My goal is to take the insights from this dataset to create an interactive dashboard that will allow users to dive into different genres, styles, and the overall most popular songs. This would provide personalized music recommendations based on the user preferences. Although there were many other datasets available, this dataset stood out the most because of its balance of depth and breadth of information. I concluded that this dataset aligns best and provides a solid basis for accomplishing my goals. \n"
   ]
  },
  {
   "cell_type": "markdown",
   "metadata": {},
   "source": [
    "## Data Cleaning"
   ]
  },
  {
   "cell_type": "code",
   "execution_count": 31,
   "metadata": {},
   "outputs": [],
   "source": [
    "# import dependencies\n",
    "import pandas as pd\n",
    "import numpy as np\n",
    "import plotly.express as px\n",
    "from dash import Dash, dcc, html, Input, Output"
   ]
  },
  {
   "cell_type": "code",
   "execution_count": 32,
   "metadata": {},
   "outputs": [
    {
     "name": "stdout",
     "output_type": "stream",
     "text": [
      "                                                 title           artist  \\\n",
      "0                                     Hey, Soul Sister            Train   \n",
      "1                                 Love The Way You Lie           Eminem   \n",
      "2                                              TiK ToK            Kesha   \n",
      "3                                          Bad Romance         LadyGaga   \n",
      "4                                 Just the Way You Are        BrunoMars   \n",
      "..                                                 ...              ...   \n",
      "598                Find U Again (feat. Camila Cabello)       MarkRonson   \n",
      "599      Cross Me (feat. Chance the Rapper & PnB Rock)        EdSheeran   \n",
      "600  No Brainer (feat. Justin Bieber, Chance the Ra...         DJKhaled   \n",
      "601    Nothing Breaks Like a Heart (feat. Miley Cyrus)       MarkRonson   \n",
      "602                                   Kills You Slowly  TheChainsmokers   \n",
      "\n",
      "           top genre  year  Beats Per Minute  Energy  Danceability  Loudness  \\\n",
      "0         neo mellow  2010                97      89            67        -4   \n",
      "1    detroit hip hop  2010                87      93            75        -5   \n",
      "2          dance pop  2010               120      84            76        -3   \n",
      "3          dance pop  2010               119      92            70        -4   \n",
      "4                pop  2010               109      84            64        -5   \n",
      "..               ...   ...               ...     ...           ...       ...   \n",
      "598        dance pop  2019               104      66            61        -7   \n",
      "599              pop  2019                95      79            75        -6   \n",
      "600        dance pop  2019               136      76            53        -5   \n",
      "601        dance pop  2019               114      79            60        -6   \n",
      "602       electropop  2019               150      44            70        -9   \n",
      "\n",
      "     Liveness  Valence  Duration  Acousticness  Speechiness  Popularity  \n",
      "0           8       80       217            19            4          83  \n",
      "1          52       64       263            24           23          82  \n",
      "2          29       71       200            10           14          80  \n",
      "3           8       71       295             0            4          79  \n",
      "4           9       43       221             2            4          78  \n",
      "..        ...      ...       ...           ...          ...         ...  \n",
      "598        20       16       176             1            3          75  \n",
      "599         7       61       206            21           12          75  \n",
      "600         9       65       260             7           34          70  \n",
      "601        42       24       217             1            7          69  \n",
      "602        13       23       213             6            6          67  \n",
      "\n",
      "[602 rows x 14 columns]\n"
     ]
    }
   ],
   "source": [
    "# import the data\n",
    "data = pd.read_csv(\"data.csv\", encoding='latin-1') # originally would not run but after adding the \"encoding='latin-1\" it works\n",
    "data.head() #show a part of the dataset\n",
    "\n",
    "# dropping unneccesary columns\n",
    "data = data.drop(['Unnamed: 0'], axis=1) # deleted the first column which just listed the column number with no actual valuable data\n",
    "data.head()\n",
    "\n",
    "#rename column values for easier understanding and reading\n",
    "data = data.rename(columns={\n",
    "    'bpm': 'Beats Per Minute',\n",
    "    'nrgy': 'Energy',\n",
    "    'dnce': 'Danceability',\n",
    "    'dB': 'Loudness',\n",
    "    'live': 'Liveness',\n",
    "    'val': 'Valence',\n",
    "    'dur': 'Duration',\n",
    "    'acous': 'Acousticness',\n",
    "    'spch': 'Speechiness',\n",
    "    'pop': 'Popularity'\n",
    "})\n",
    "\n",
    "# this row has no values, all 0 \n",
    "data = data.drop(442)\n",
    "\n",
    "# Replace symbols in the artist column\n",
    "data['artist'] = data['artist'].str.replace('!', '')\n",
    "data['artist'] = data['artist'].str.replace('.', '')\n",
    "data['artist'] = data['artist'].str.replace('-', '')\n",
    "data['artist'] = data['artist'].str.replace('+', '')\n",
    "data['artist'] = data['artist'].str.replace('&', '')\n",
    "data['artist'] = data['artist'].str.replace(' ', '')\n",
    "print(data)\n",
    "\n",
    "# edit artist names so they are correctly shown in world cloud\n",
    "data['artist'] = data['artist'].replace('Florence + The Machine', 'Florence and The Machine')\n",
    "data['artist'] = data['artist'].replace('Beyoncé', 'Beyonce')\n",
    "data['artist'] = data['artist'].replace('3OH!3', '3OH3')\n",
    "data['artist'] = data['artist'].replace('T.I.', 'TI')\n",
    "data['artist'] = data['artist'].replace('P!nk', 'Pink')\n",
    "data['artist'] = data['artist'].replace('Selena Gomez & The Scene', 'Selena Gomez and The Scene')\n",
    "data['artist'] = data['artist'].replace('fun.', 'Fun')\n",
    "data['artist'] = data['artist'].replace('Ne-Yo', 'NeYo')\n",
    "data['artist'] = data['artist'].replace('will.i.am', 'William')\n",
    "data['artist'] = data['artist'].replace('Emeli Sandé', 'Emeli Sande')\n",
    "data['artist'] = data['artist'].replace('MAGIC!', 'MAGIC')\n",
    "data['artist'] = data['artist'].replace('Mr. Probz', 'Mr Probz')\n",
    "data['artist'] = data['artist'].replace('G-Eazy', 'G Eazy')\n",
    "data['artist'] = data['artist'].replace('BØRNS', 'BORNS')\n",
    "data['artist'] = data['artist'].replace('MØ', 'MO')\n",
    "data['artist'] = data['artist'].replace('Dan + Shay', 'Dan and Shay')\n",
    "data['artist'] = data['artist'].replace('N.E.R.D', 'NERD')\n",
    "data['artist'] = data['artist'].replace('Macklemore & Ryan Lewis', 'Macklemore and Ryan Lewis')\n"
   ]
  },
  {
   "cell_type": "code",
   "execution_count": 33,
   "metadata": {},
   "outputs": [],
   "source": [
    "# Changing column values to lower case\n",
    "#data['title'] = data['title'].str.lower() # Changed the song titles all to lower case because they had random upper and lower cases, will prevent silly mistakes in the future\n",
    "#data['artist'] = data['artist'].str.lower() # Changed artist names to lower case so they are easier to work with in the future\n",
    "#print(data)"
   ]
  },
  {
   "cell_type": "markdown",
   "metadata": {},
   "source": [
    "## Exploratory Analysis\n",
    "\n",
    "This dataset contains 603 rows and 14 columns with 584 unique title values, 184 unique artist values, 50 unique genre values, 104 unique bpm values, 77 unique energy values, 70 dance values, 14 dB values, 61 liveliness values, 94 valence values, 144 duration values, 75 acoustic values, 39 speech values, and 71 popularity values. There are no missing values in any observation or variable. \n"
   ]
  },
  {
   "cell_type": "code",
   "execution_count": 34,
   "metadata": {},
   "outputs": [
    {
     "data": {
      "text/html": [
       "<div>\n",
       "<style scoped>\n",
       "    .dataframe tbody tr th:only-of-type {\n",
       "        vertical-align: middle;\n",
       "    }\n",
       "\n",
       "    .dataframe tbody tr th {\n",
       "        vertical-align: top;\n",
       "    }\n",
       "\n",
       "    .dataframe thead th {\n",
       "        text-align: right;\n",
       "    }\n",
       "</style>\n",
       "<table border=\"1\" class=\"dataframe\">\n",
       "  <thead>\n",
       "    <tr style=\"text-align: right;\">\n",
       "      <th></th>\n",
       "      <th>title</th>\n",
       "      <th>artist</th>\n",
       "      <th>top genre</th>\n",
       "      <th>year</th>\n",
       "      <th>Beats Per Minute</th>\n",
       "      <th>Energy</th>\n",
       "      <th>Danceability</th>\n",
       "      <th>Loudness</th>\n",
       "      <th>Liveness</th>\n",
       "      <th>Valence</th>\n",
       "      <th>Duration</th>\n",
       "      <th>Acousticness</th>\n",
       "      <th>Speechiness</th>\n",
       "      <th>Popularity</th>\n",
       "    </tr>\n",
       "  </thead>\n",
       "  <tbody>\n",
       "    <tr>\n",
       "      <th>0</th>\n",
       "      <td>Hey, Soul Sister</td>\n",
       "      <td>Train</td>\n",
       "      <td>neo mellow</td>\n",
       "      <td>2010</td>\n",
       "      <td>97</td>\n",
       "      <td>89</td>\n",
       "      <td>67</td>\n",
       "      <td>-4</td>\n",
       "      <td>8</td>\n",
       "      <td>80</td>\n",
       "      <td>217</td>\n",
       "      <td>19</td>\n",
       "      <td>4</td>\n",
       "      <td>83</td>\n",
       "    </tr>\n",
       "    <tr>\n",
       "      <th>1</th>\n",
       "      <td>Love The Way You Lie</td>\n",
       "      <td>Eminem</td>\n",
       "      <td>detroit hip hop</td>\n",
       "      <td>2010</td>\n",
       "      <td>87</td>\n",
       "      <td>93</td>\n",
       "      <td>75</td>\n",
       "      <td>-5</td>\n",
       "      <td>52</td>\n",
       "      <td>64</td>\n",
       "      <td>263</td>\n",
       "      <td>24</td>\n",
       "      <td>23</td>\n",
       "      <td>82</td>\n",
       "    </tr>\n",
       "    <tr>\n",
       "      <th>2</th>\n",
       "      <td>TiK ToK</td>\n",
       "      <td>Kesha</td>\n",
       "      <td>dance pop</td>\n",
       "      <td>2010</td>\n",
       "      <td>120</td>\n",
       "      <td>84</td>\n",
       "      <td>76</td>\n",
       "      <td>-3</td>\n",
       "      <td>29</td>\n",
       "      <td>71</td>\n",
       "      <td>200</td>\n",
       "      <td>10</td>\n",
       "      <td>14</td>\n",
       "      <td>80</td>\n",
       "    </tr>\n",
       "    <tr>\n",
       "      <th>3</th>\n",
       "      <td>Bad Romance</td>\n",
       "      <td>LadyGaga</td>\n",
       "      <td>dance pop</td>\n",
       "      <td>2010</td>\n",
       "      <td>119</td>\n",
       "      <td>92</td>\n",
       "      <td>70</td>\n",
       "      <td>-4</td>\n",
       "      <td>8</td>\n",
       "      <td>71</td>\n",
       "      <td>295</td>\n",
       "      <td>0</td>\n",
       "      <td>4</td>\n",
       "      <td>79</td>\n",
       "    </tr>\n",
       "    <tr>\n",
       "      <th>4</th>\n",
       "      <td>Just the Way You Are</td>\n",
       "      <td>BrunoMars</td>\n",
       "      <td>pop</td>\n",
       "      <td>2010</td>\n",
       "      <td>109</td>\n",
       "      <td>84</td>\n",
       "      <td>64</td>\n",
       "      <td>-5</td>\n",
       "      <td>9</td>\n",
       "      <td>43</td>\n",
       "      <td>221</td>\n",
       "      <td>2</td>\n",
       "      <td>4</td>\n",
       "      <td>78</td>\n",
       "    </tr>\n",
       "  </tbody>\n",
       "</table>\n",
       "</div>"
      ],
      "text/plain": [
       "                  title     artist        top genre  year  Beats Per Minute  \\\n",
       "0      Hey, Soul Sister      Train       neo mellow  2010                97   \n",
       "1  Love The Way You Lie     Eminem  detroit hip hop  2010                87   \n",
       "2               TiK ToK      Kesha        dance pop  2010               120   \n",
       "3           Bad Romance   LadyGaga        dance pop  2010               119   \n",
       "4  Just the Way You Are  BrunoMars              pop  2010               109   \n",
       "\n",
       "   Energy  Danceability  Loudness  Liveness  Valence  Duration  Acousticness  \\\n",
       "0      89            67        -4         8       80       217            19   \n",
       "1      93            75        -5        52       64       263            24   \n",
       "2      84            76        -3        29       71       200            10   \n",
       "3      92            70        -4         8       71       295             0   \n",
       "4      84            64        -5         9       43       221             2   \n",
       "\n",
       "   Speechiness  Popularity  \n",
       "0            4          83  \n",
       "1           23          82  \n",
       "2           14          80  \n",
       "3            4          79  \n",
       "4            4          78  "
      ]
     },
     "execution_count": 34,
     "metadata": {},
     "output_type": "execute_result"
    }
   ],
   "source": [
    "data.head()"
   ]
  },
  {
   "cell_type": "code",
   "execution_count": 35,
   "metadata": {},
   "outputs": [
    {
     "data": {
      "text/html": [
       "<div>\n",
       "<style scoped>\n",
       "    .dataframe tbody tr th:only-of-type {\n",
       "        vertical-align: middle;\n",
       "    }\n",
       "\n",
       "    .dataframe tbody tr th {\n",
       "        vertical-align: top;\n",
       "    }\n",
       "\n",
       "    .dataframe thead th {\n",
       "        text-align: right;\n",
       "    }\n",
       "</style>\n",
       "<table border=\"1\" class=\"dataframe\">\n",
       "  <thead>\n",
       "    <tr style=\"text-align: right;\">\n",
       "      <th></th>\n",
       "      <th>title</th>\n",
       "      <th>artist</th>\n",
       "      <th>top genre</th>\n",
       "      <th>year</th>\n",
       "      <th>Beats Per Minute</th>\n",
       "      <th>Energy</th>\n",
       "      <th>Danceability</th>\n",
       "      <th>Loudness</th>\n",
       "      <th>Liveness</th>\n",
       "      <th>Valence</th>\n",
       "      <th>Duration</th>\n",
       "      <th>Acousticness</th>\n",
       "      <th>Speechiness</th>\n",
       "      <th>Popularity</th>\n",
       "    </tr>\n",
       "  </thead>\n",
       "  <tbody>\n",
       "    <tr>\n",
       "      <th>598</th>\n",
       "      <td>Find U Again (feat. Camila Cabello)</td>\n",
       "      <td>MarkRonson</td>\n",
       "      <td>dance pop</td>\n",
       "      <td>2019</td>\n",
       "      <td>104</td>\n",
       "      <td>66</td>\n",
       "      <td>61</td>\n",
       "      <td>-7</td>\n",
       "      <td>20</td>\n",
       "      <td>16</td>\n",
       "      <td>176</td>\n",
       "      <td>1</td>\n",
       "      <td>3</td>\n",
       "      <td>75</td>\n",
       "    </tr>\n",
       "    <tr>\n",
       "      <th>599</th>\n",
       "      <td>Cross Me (feat. Chance the Rapper &amp; PnB Rock)</td>\n",
       "      <td>EdSheeran</td>\n",
       "      <td>pop</td>\n",
       "      <td>2019</td>\n",
       "      <td>95</td>\n",
       "      <td>79</td>\n",
       "      <td>75</td>\n",
       "      <td>-6</td>\n",
       "      <td>7</td>\n",
       "      <td>61</td>\n",
       "      <td>206</td>\n",
       "      <td>21</td>\n",
       "      <td>12</td>\n",
       "      <td>75</td>\n",
       "    </tr>\n",
       "    <tr>\n",
       "      <th>600</th>\n",
       "      <td>No Brainer (feat. Justin Bieber, Chance the Ra...</td>\n",
       "      <td>DJKhaled</td>\n",
       "      <td>dance pop</td>\n",
       "      <td>2019</td>\n",
       "      <td>136</td>\n",
       "      <td>76</td>\n",
       "      <td>53</td>\n",
       "      <td>-5</td>\n",
       "      <td>9</td>\n",
       "      <td>65</td>\n",
       "      <td>260</td>\n",
       "      <td>7</td>\n",
       "      <td>34</td>\n",
       "      <td>70</td>\n",
       "    </tr>\n",
       "    <tr>\n",
       "      <th>601</th>\n",
       "      <td>Nothing Breaks Like a Heart (feat. Miley Cyrus)</td>\n",
       "      <td>MarkRonson</td>\n",
       "      <td>dance pop</td>\n",
       "      <td>2019</td>\n",
       "      <td>114</td>\n",
       "      <td>79</td>\n",
       "      <td>60</td>\n",
       "      <td>-6</td>\n",
       "      <td>42</td>\n",
       "      <td>24</td>\n",
       "      <td>217</td>\n",
       "      <td>1</td>\n",
       "      <td>7</td>\n",
       "      <td>69</td>\n",
       "    </tr>\n",
       "    <tr>\n",
       "      <th>602</th>\n",
       "      <td>Kills You Slowly</td>\n",
       "      <td>TheChainsmokers</td>\n",
       "      <td>electropop</td>\n",
       "      <td>2019</td>\n",
       "      <td>150</td>\n",
       "      <td>44</td>\n",
       "      <td>70</td>\n",
       "      <td>-9</td>\n",
       "      <td>13</td>\n",
       "      <td>23</td>\n",
       "      <td>213</td>\n",
       "      <td>6</td>\n",
       "      <td>6</td>\n",
       "      <td>67</td>\n",
       "    </tr>\n",
       "  </tbody>\n",
       "</table>\n",
       "</div>"
      ],
      "text/plain": [
       "                                                 title           artist  \\\n",
       "598                Find U Again (feat. Camila Cabello)       MarkRonson   \n",
       "599      Cross Me (feat. Chance the Rapper & PnB Rock)        EdSheeran   \n",
       "600  No Brainer (feat. Justin Bieber, Chance the Ra...         DJKhaled   \n",
       "601    Nothing Breaks Like a Heart (feat. Miley Cyrus)       MarkRonson   \n",
       "602                                   Kills You Slowly  TheChainsmokers   \n",
       "\n",
       "      top genre  year  Beats Per Minute  Energy  Danceability  Loudness  \\\n",
       "598   dance pop  2019               104      66            61        -7   \n",
       "599         pop  2019                95      79            75        -6   \n",
       "600   dance pop  2019               136      76            53        -5   \n",
       "601   dance pop  2019               114      79            60        -6   \n",
       "602  electropop  2019               150      44            70        -9   \n",
       "\n",
       "     Liveness  Valence  Duration  Acousticness  Speechiness  Popularity  \n",
       "598        20       16       176             1            3          75  \n",
       "599         7       61       206            21           12          75  \n",
       "600         9       65       260             7           34          70  \n",
       "601        42       24       217             1            7          69  \n",
       "602        13       23       213             6            6          67  "
      ]
     },
     "execution_count": 35,
     "metadata": {},
     "output_type": "execute_result"
    }
   ],
   "source": [
    "data.tail()"
   ]
  },
  {
   "cell_type": "code",
   "execution_count": 36,
   "metadata": {},
   "outputs": [
    {
     "name": "stdout",
     "output_type": "stream",
     "text": [
      "<class 'pandas.core.frame.DataFrame'>\n",
      "Index: 602 entries, 0 to 602\n",
      "Data columns (total 14 columns):\n",
      " #   Column            Non-Null Count  Dtype \n",
      "---  ------            --------------  ----- \n",
      " 0   title             602 non-null    object\n",
      " 1   artist            602 non-null    object\n",
      " 2   top genre         602 non-null    object\n",
      " 3   year              602 non-null    int64 \n",
      " 4   Beats Per Minute  602 non-null    int64 \n",
      " 5   Energy            602 non-null    int64 \n",
      " 6   Danceability      602 non-null    int64 \n",
      " 7   Loudness          602 non-null    int64 \n",
      " 8   Liveness          602 non-null    int64 \n",
      " 9   Valence           602 non-null    int64 \n",
      " 10  Duration          602 non-null    int64 \n",
      " 11  Acousticness      602 non-null    int64 \n",
      " 12  Speechiness       602 non-null    int64 \n",
      " 13  Popularity        602 non-null    int64 \n",
      "dtypes: int64(11), object(3)\n",
      "memory usage: 70.5+ KB\n"
     ]
    }
   ],
   "source": [
    "data.info() # Shows a quick overview of the dataset. The index dtype and column dtypes are either object or int. There are also no non-null values. \n",
    "\n"
   ]
  },
  {
   "cell_type": "code",
   "execution_count": 37,
   "metadata": {},
   "outputs": [
    {
     "data": {
      "text/plain": [
       "(602, 14)"
      ]
     },
     "execution_count": 37,
     "metadata": {},
     "output_type": "execute_result"
    }
   ],
   "source": [
    "data.shape # This dataset has 603 rows and 14 columns\n"
   ]
  },
  {
   "cell_type": "code",
   "execution_count": 38,
   "metadata": {},
   "outputs": [
    {
     "data": {
      "text/plain": [
       "8428"
      ]
     },
     "execution_count": 38,
     "metadata": {},
     "output_type": "execute_result"
    }
   ],
   "source": [
    "data.size # Total number of 8442 different elements in this dataset"
   ]
  },
  {
   "cell_type": "code",
   "execution_count": 39,
   "metadata": {},
   "outputs": [
    {
     "data": {
      "text/plain": [
       "2"
      ]
     },
     "execution_count": 39,
     "metadata": {},
     "output_type": "execute_result"
    }
   ],
   "source": [
    "data.ndim # This dataset is only two dimensional"
   ]
  },
  {
   "cell_type": "code",
   "execution_count": 40,
   "metadata": {},
   "outputs": [
    {
     "data": {
      "text/plain": [
       "title               583\n",
       "artist              184\n",
       "top genre            50\n",
       "year                 10\n",
       "Beats Per Minute    103\n",
       "Energy               76\n",
       "Danceability         69\n",
       "Loudness             13\n",
       "Liveness             60\n",
       "Valence              93\n",
       "Duration            144\n",
       "Acousticness         75\n",
       "Speechiness          38\n",
       "Popularity           71\n",
       "dtype: int64"
      ]
     },
     "execution_count": 40,
     "metadata": {},
     "output_type": "execute_result"
    }
   ],
   "source": [
    "data.nunique() # There are a total of 584 songs, 184 different artists, and 50 artists in the dataset. "
   ]
  },
  {
   "cell_type": "code",
   "execution_count": 41,
   "metadata": {},
   "outputs": [],
   "source": [
    "data.to_csv('data2', index=False)"
   ]
  },
  {
   "cell_type": "markdown",
   "metadata": {},
   "source": [
    "## Data Dictionary \n",
    "\n",
    "   **title** - The title of the song\n",
    "   \n",
    "   **artist** - The artist of the song\n",
    "\n",
    "   **top genre** - The genre of the track\n",
    "\n",
    "   **year** - The release year of the recording\n",
    "\n",
    "   **BPM** - Beats Per Minute, the tempo of the song \n",
    "\n",
    "   **nrgy** - The energy of a song, the higher the value the more energtic\n",
    "\n",
    "   **dnce** - The higher the value, the easier it is to dance to this song\n",
    "\n",
    "   **db** - The higher the value, the louder the song\n",
    "\n",
    "   **live** - Liveness. The higher the value, the more likely the song is a live recording\n",
    "\n",
    "   **val** - Valence. The higher the value, the more positive mood for the song\n",
    "\n",
    "   **dur** - The duration of the song\n",
    "\n",
    "   **acous** - The higher the value the more acoustic the song is\n",
    "\n",
    "   **spch** - The higher the value the more spoken word the song contains\n",
    "\n",
    "   **pop** - The higher the value the more popular the song is"
   ]
  },
  {
   "cell_type": "markdown",
   "metadata": {},
   "source": [
    "## Brainstorming\n",
    "\n",
    "For this project, I think creating a dropdown menu to provide options for filtering the data by either year or artist would be helpful for users to search for top songs. I could also create a slider for the years so that the user is able to select either one year or see the data from a selectable wide range of years. Some possible data visualizations include a line graph of the artists on the y axis and the number of songs they have had in the top 10 on the x axis throughout the years 2010 to 2019. I could also show which genre is the most popular through a pie chart by sorting the colors by genre and displaying the percentage of songs that have been selected for that specfic genre, filtered on year using a multi-select dropdown. I could show how the energy of different genres relate by creating a histogram or show the danceability of different genres. \n"
   ]
  }
 ],
 "metadata": {
  "kernelspec": {
   "display_name": "ds4003",
   "language": "python",
   "name": "python3"
  },
  "language_info": {
   "codemirror_mode": {
    "name": "ipython",
    "version": 3
   },
   "file_extension": ".py",
   "mimetype": "text/x-python",
   "name": "python",
   "nbconvert_exporter": "python",
   "pygments_lexer": "ipython3",
   "version": "3.8.18"
  }
 },
 "nbformat": 4,
 "nbformat_minor": 2
}
